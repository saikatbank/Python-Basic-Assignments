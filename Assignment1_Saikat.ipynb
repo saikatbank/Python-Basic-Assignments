{
 "cells": [
  {
   "cell_type": "markdown",
   "id": "3b01f4b7",
   "metadata": {},
   "source": [
    "Q.1"
   ]
  },
  {
   "cell_type": "raw",
   "id": "a83075b4",
   "metadata": {},
   "source": [
    "expressions - *,-,/,+\n",
    "values - 'hello',-87.8,6"
   ]
  },
  {
   "cell_type": "markdown",
   "id": "289b31cf",
   "metadata": {},
   "source": [
    "Q.2"
   ]
  },
  {
   "cell_type": "raw",
   "id": "2503fd93",
   "metadata": {},
   "source": [
    "String is a data type of value\n",
    "variable is used to store values"
   ]
  },
  {
   "cell_type": "markdown",
   "id": "bac05438",
   "metadata": {},
   "source": [
    "Q.3"
   ]
  },
  {
   "cell_type": "raw",
   "id": "d628a354",
   "metadata": {},
   "source": [
    "String (str)- This is a sequence of characters like alphabet, numbers, symbol etc. we write a string in between '' or \"\".\n",
    "Integer (int) - Intger numbers like 0,+1,-1,+2,-2,.... are of int type. Integer type data are whole numbers (i.e. they are not fraction)\n",
    "float- Fractional (or decimal) numbers like 0.1,-2.5,4.0 etc are of float type.\n",
    "Boolean (bool)- Boolean data type contains True or False value."
   ]
  },
  {
   "cell_type": "markdown",
   "id": "7a3ef724",
   "metadata": {},
   "source": [
    "Q.4"
   ]
  },
  {
   "cell_type": "raw",
   "id": "4c7b2b75",
   "metadata": {},
   "source": [
    "An expression made up of variables, operators, operands and methods.\n",
    "An expression try to give a result value in return"
   ]
  },
  {
   "cell_type": "markdown",
   "id": "ab020252",
   "metadata": {},
   "source": [
    "Q.5"
   ]
  },
  {
   "cell_type": "raw",
   "id": "2b0a8a44",
   "metadata": {},
   "source": [
    "An expression is a combination of variables, operators, operands and methods which try to produce to result value in return but statement is an command of what to perform (like print or assignment statement). print statement is an statement but not an expression. Every line of a program is a statement but it may not be an expression (like print('hello'))"
   ]
  },
  {
   "cell_type": "markdown",
   "id": "75d862fa",
   "metadata": {},
   "source": [
    "Q.6"
   ]
  },
  {
   "cell_type": "raw",
   "id": "4a2a29ec",
   "metadata": {},
   "source": [
    "The output of the code will be 23 but the bacon will contain the value 22"
   ]
  },
  {
   "cell_type": "markdown",
   "id": "a5076192",
   "metadata": {},
   "source": [
    "Q.7"
   ]
  },
  {
   "cell_type": "raw",
   "id": "45f0b744",
   "metadata": {},
   "source": [
    "'spam'+'spamspam' will give 'spamspamspam'\n",
    "and also 'spam'*3 will give 'spamspamspam'\n",
    "so both the outputs are same"
   ]
  },
  {
   "cell_type": "markdown",
   "id": "3b37771c",
   "metadata": {},
   "source": [
    "Q.8"
   ]
  },
  {
   "cell_type": "raw",
   "id": "03c858a9",
   "metadata": {},
   "source": [
    "A variable name should be start with a letter or an underscore. But a variable name can not be start with a numerical value. So egg is a valid variable but 100 is invalid"
   ]
  },
  {
   "cell_type": "markdown",
   "id": "4eadda4b",
   "metadata": {},
   "source": [
    "Q.9"
   ]
  },
  {
   "cell_type": "raw",
   "id": "e4546a8f",
   "metadata": {},
   "source": [
    "int() function- To get the integer version of a value (if possible)\n",
    "float() function- To get the floating-point number version of a value (if possible)\n",
    "str() function- To get the string version of a value."
   ]
  },
  {
   "cell_type": "markdown",
   "id": "522579b4",
   "metadata": {},
   "source": [
    "Q.10"
   ]
  },
  {
   "cell_type": "raw",
   "id": "e49c7969",
   "metadata": {},
   "source": [
    "Here we are trying to concatenate a string with an integer so it is giving error. We can fix it by converting 99 ( which is int type) to a string by doing 'I have eaten'+ str(99) + 'burritos.'"
   ]
  }
 ],
 "metadata": {
  "kernelspec": {
   "display_name": "Python 3",
   "language": "python",
   "name": "python3"
  },
  "language_info": {
   "codemirror_mode": {
    "name": "ipython",
    "version": 3
   },
   "file_extension": ".py",
   "mimetype": "text/x-python",
   "name": "python",
   "nbconvert_exporter": "python",
   "pygments_lexer": "ipython3",
   "version": "3.8.8"
  }
 },
 "nbformat": 4,
 "nbformat_minor": 5
}
