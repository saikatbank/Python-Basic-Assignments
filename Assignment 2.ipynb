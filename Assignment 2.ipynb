{
 "cells": [
  {
   "cell_type": "markdown",
   "id": "03f3c928",
   "metadata": {},
   "source": [
    "Q.1"
   ]
  },
  {
   "cell_type": "markdown",
   "id": "38983da4",
   "metadata": {},
   "source": [
    "Two values of boolean data types are true and false <br>\n",
    "true is wirtten as True <br>\n",
    "and false is written as False"
   ]
  },
  {
   "cell_type": "markdown",
   "id": "03ecc860",
   "metadata": {},
   "source": [
    "Q.2"
   ]
  },
  {
   "cell_type": "markdown",
   "id": "f6a01a5e",
   "metadata": {},
   "source": [
    "Three types of boolean operator are: and, or, not"
   ]
  },
  {
   "cell_type": "markdown",
   "id": "0198e2a3",
   "metadata": {},
   "source": [
    "Q.3"
   ]
  },
  {
   "cell_type": "markdown",
   "id": "62ec1f3a",
   "metadata": {},
   "source": [
    "if A- True, B- True, then (A and B)-True, (A or B)-True <br>\n",
    "if A- True, B- False, then (A and B)-False, (A or B)-True <br>\n",
    "if A- False, B- True, then (A and B)-False, (A or B)-True <br>\n",
    "if A- False, B- False, then (A and B)-False, (A or B)-False <br>\n",
    "if A- True then not(A)- False <br>\n",
    "if A- False then not(A)- True"
   ]
  },
  {
   "cell_type": "markdown",
   "id": "f81e5a51",
   "metadata": {},
   "source": [
    "Q.4"
   ]
  },
  {
   "cell_type": "markdown",
   "id": "d9694aab",
   "metadata": {},
   "source": [
    "(5 > 4) and (3 == 5) will give False <br>\n",
    "not (5 > 4) will give False <br>\n",
    "(5 > 4) or (3 == 5) will give True <br>\n",
    "not ((5 > 4) or (3 == 5)) will give False <br>\n",
    "(True and True) and (True == False) will give False <br>\n",
    "(not False) or (not True) will give True"
   ]
  },
  {
   "cell_type": "markdown",
   "id": "bfdf7122",
   "metadata": {},
   "source": [
    "Q.5"
   ]
  },
  {
   "cell_type": "markdown",
   "id": "201d8634",
   "metadata": {},
   "source": [
    "Six comparison operators are <br> \n",
    "i) equal to (==) <br>\n",
    "ii) not equal to (!=) <br>\n",
    "iii) greater than (>) <br>\n",
    "iv) greater than or equal to (>=) <br>\n",
    "v) less than (<) <br>\n",
    "vi) less than or equal to (<=)"
   ]
  },
  {
   "cell_type": "markdown",
   "id": "a34e6ed9",
   "metadata": {},
   "source": [
    "Q.6"
   ]
  },
  {
   "cell_type": "markdown",
   "id": "92031a13",
   "metadata": {},
   "source": [
    "Assignment operator is = <br>\n",
    "Equal to operator is == <br>\n",
    "and operator evaluates if both are true or not. It gives True only if both are true otherwise it will give false. <br>\n",
    "Example: to check my full name <br><br>\n",
    "\n",
    "code: "
   ]
  },
  {
   "cell_type": "code",
   "execution_count": 1,
   "id": "a1e28e26",
   "metadata": {},
   "outputs": [
    {
     "name": "stdout",
     "output_type": "stream",
     "text": [
      "name= Saikat\n",
      "surname= Bank\n",
      "it's me!\n"
     ]
    }
   ],
   "source": [
    "name=input('name= ')\n",
    "surname=input('surname= ')\n",
    "if name=='Saikat' and surname=='Bank':\n",
    "    print(\"it's me!\")\n",
    "else:\n",
    "    print(\"it's not me! \")"
   ]
  },
  {
   "cell_type": "markdown",
   "id": "e23040c4",
   "metadata": {},
   "source": [
    "Q.7"
   ]
  },
  {
   "cell_type": "code",
   "execution_count": 2,
   "id": "c96f9f4f",
   "metadata": {},
   "outputs": [
    {
     "name": "stdout",
     "output_type": "stream",
     "text": [
      "spam\n"
     ]
    }
   ],
   "source": [
    "spam = 0\n",
    "if spam == 10:\n",
    "    print('eggs')      # this is block A\n",
    "    if spam > 5:\n",
    "        print('bacon') # this is block B inside block A\n",
    "    else:              # here block B closed inside block A\n",
    "        print('ham')   # this is block C inside block A\n",
    "    print('spam')      # here block C closed inside block A\n",
    "print('spam')          # here block A closed"
   ]
  },
  {
   "cell_type": "markdown",
   "id": "b5f6b6b8",
   "metadata": {},
   "source": [
    "Q.8"
   ]
  },
  {
   "cell_type": "code",
   "execution_count": 3,
   "id": "6c6b955a",
   "metadata": {},
   "outputs": [
    {
     "name": "stdout",
     "output_type": "stream",
     "text": [
      "1\n",
      "Hello\n"
     ]
    }
   ],
   "source": [
    "spam=int(input())\n",
    "if spam==1:\n",
    "    print('Hello')\n",
    "elif spam==2:\n",
    "    print('Howdy')\n",
    "else:\n",
    "    print('Greetings!')"
   ]
  },
  {
   "cell_type": "markdown",
   "id": "a0556378",
   "metadata": {},
   "source": [
    "Q.9"
   ]
  },
  {
   "cell_type": "markdown",
   "id": "e5e8f261",
   "metadata": {},
   "source": [
    "If my code stuck into a endless loop then I will press ctrl+c"
   ]
  },
  {
   "cell_type": "markdown",
   "id": "477c3d81",
   "metadata": {},
   "source": [
    "Q.10"
   ]
  },
  {
   "cell_type": "markdown",
   "id": "d85606e3",
   "metadata": {},
   "source": [
    "break statement terminates the execution of current loop and go for next loop or main body of the program <br>\n",
    "continue statement terminates the only the current iteration but not loop."
   ]
  },
  {
   "cell_type": "markdown",
   "id": "7e3c3024",
   "metadata": {},
   "source": [
    "Q.11"
   ]
  },
  {
   "cell_type": "markdown",
   "id": "e82e8972",
   "metadata": {},
   "source": [
    "In a for loop range(10), range(0,10) and range(0,10,1) all are same"
   ]
  },
  {
   "cell_type": "markdown",
   "id": "231be8c9",
   "metadata": {},
   "source": [
    "Q.12"
   ]
  },
  {
   "cell_type": "code",
   "execution_count": 4,
   "id": "7073a7fb",
   "metadata": {},
   "outputs": [
    {
     "name": "stdout",
     "output_type": "stream",
     "text": [
      "1\n",
      "2\n",
      "3\n",
      "4\n",
      "5\n",
      "6\n",
      "7\n",
      "8\n",
      "9\n",
      "10\n"
     ]
    }
   ],
   "source": [
    "# using for loop\n",
    "for i in range(1,11):\n",
    "    print(i)"
   ]
  },
  {
   "cell_type": "code",
   "execution_count": 5,
   "id": "fee7ee0d",
   "metadata": {},
   "outputs": [
    {
     "name": "stdout",
     "output_type": "stream",
     "text": [
      "1\n",
      "2\n",
      "3\n",
      "4\n",
      "5\n",
      "6\n",
      "7\n",
      "8\n",
      "9\n",
      "10\n"
     ]
    }
   ],
   "source": [
    "# using while loop\n",
    "i=1\n",
    "while i<=10:\n",
    "    print(i)\n",
    "    i+=1"
   ]
  },
  {
   "cell_type": "markdown",
   "id": "81300ef3",
   "metadata": {},
   "source": [
    "Q.13"
   ]
  },
  {
   "cell_type": "markdown",
   "id": "e5401ac5",
   "metadata": {},
   "source": [
    "import spam\n",
    "\n",
    "spam.bacon()     # syntax to call the bacon function"
   ]
  },
  {
   "cell_type": "code",
   "execution_count": null,
   "id": "da930009",
   "metadata": {},
   "outputs": [],
   "source": []
  }
 ],
 "metadata": {
  "kernelspec": {
   "display_name": "Python 3",
   "language": "python",
   "name": "python3"
  },
  "language_info": {
   "codemirror_mode": {
    "name": "ipython",
    "version": 3
   },
   "file_extension": ".py",
   "mimetype": "text/x-python",
   "name": "python",
   "nbconvert_exporter": "python",
   "pygments_lexer": "ipython3",
   "version": "3.8.8"
  }
 },
 "nbformat": 4,
 "nbformat_minor": 5
}
