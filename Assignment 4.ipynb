{
 "cells": [
  {
   "cell_type": "markdown",
   "id": "091026d5",
   "metadata": {},
   "source": [
    "# 1. What exactly is []?"
   ]
  },
  {
   "cell_type": "markdown",
   "id": "e1108e2f",
   "metadata": {},
   "source": [
    "- This is a empty list"
   ]
  },
  {
   "cell_type": "markdown",
   "id": "cf75976b",
   "metadata": {},
   "source": [
    "# 2. In a list of values stored in a variable called spam, how would you assign the value 'hello' as the third value? (Assume [2, 4, 6, 8, 10] are in spam.)"
   ]
  },
  {
   "cell_type": "markdown",
   "id": "db2fca12",
   "metadata": {},
   "source": [
    "- Here  spam = [2,4,6,8]\n",
    "- So, spam[2] = 'hello' will assign the value 'hello' as the third value  "
   ]
  },
  {
   "cell_type": "markdown",
   "id": "6e378072",
   "metadata": {},
   "source": [
    " # Let's pretend the spam includes the list ['a', 'b', 'c', 'd'] for the next three queries."
   ]
  },
  {
   "cell_type": "markdown",
   "id": "b0870215",
   "metadata": {},
   "source": [
    "## 3. What is the value of spam[int(int('3' * 2) / 11)]?"
   ]
  },
  {
   "cell_type": "markdown",
   "id": "ad78a8b7",
   "metadata": {},
   "source": [
    "- '3' * 2 = '33' . So int('3'*2) = 33\n",
    "- So (int('3' * 2) / 11) = (33/11) = 3.0\n",
    "- So int(int('3' * 2) / 11) = int(3.0) = 3\n",
    "- So spam[int(int('3' * 2) / 11)] = spam[3] = 'd'"
   ]
  },
  {
   "cell_type": "markdown",
   "id": "0a5d4fd3",
   "metadata": {},
   "source": [
    "## 4. What is the value of spam[-1]?\n",
    "\n",
    "- spam[-1] = 'd'"
   ]
  },
  {
   "cell_type": "markdown",
   "id": "96b1e087",
   "metadata": {},
   "source": [
    "## 5. What is the value of spam[:2]?\n",
    "\n",
    "- spam[:2] = ['a', 'b']"
   ]
  },
  {
   "cell_type": "markdown",
   "id": "01c5e50d",
   "metadata": {},
   "source": [
    "# Let's pretend bacon has the list [3.14, 'cat', 11, 'cat,' True] for the next three questions."
   ]
  },
  {
   "cell_type": "markdown",
   "id": "ebf124a3",
   "metadata": {},
   "source": [
    "## 6. What is the value of bacon.index('cat')?\n",
    "\n",
    "- bacon.index('cat') will give 1"
   ]
  },
  {
   "cell_type": "markdown",
   "id": "aac663b9",
   "metadata": {},
   "source": [
    "## 7. How does bacon.append(99) change the look of the list value in bacon?"
   ]
  },
  {
   "cell_type": "markdown",
   "id": "59cf04f6",
   "metadata": {},
   "source": [
    "- After bacon.append(99) the bacon list will be [3.14, 'cat,' 11, 'cat', True, 99]"
   ]
  },
  {
   "cell_type": "markdown",
   "id": "1b5e105b",
   "metadata": {},
   "source": [
    "# 8. How does bacon.remove('cat') change the look of the list in bacon?\n",
    "\n",
    "- After bacon.remove('cat') the bacon list will be [3.14, 'cat,' 11, True, 99]"
   ]
  },
  {
   "cell_type": "markdown",
   "id": "d270c82a",
   "metadata": {},
   "source": [
    "# 9. What are the list concatenation and list replication operators?\n",
    "\n",
    "- The operator for concatenation is __+__\n",
    "\n",
    "- The operator for replication is $\\ \\ \\ \\ *$\n",
    "\n",
    "__Example :__\n",
    "``` python\n",
    "a = [1,2]\n",
    "b = [3,4]\n",
    "\n",
    "## concatenation\n",
    "c = a+b       # c = [1,2,3,4]\n",
    "## replication\n",
    "d = a * 6  # d = [1,2,1,2,1,2,1,2,1,2,1,2]\n",
    "\n",
    "```"
   ]
  },
  {
   "cell_type": "markdown",
   "id": "e1323d20",
   "metadata": {},
   "source": [
    "# 10. What is difference between the list methods append() and insert()?\n",
    "\n",
    "- append method is used to add an element in the list\n",
    "- insert method is used to modify already occupied position\n",
    "\n",
    "__Example__\n",
    "\n",
    "```python\n",
    "## append method\n",
    "a = [1,2]\n",
    "a.append(4)\n",
    "print(a)  # [1,2,4]\n",
    "\n",
    "## insert method\n",
    "a = [1,2]\n",
    "a.insert(1,4) # first argument is for position and seocnd argument is the value\n",
    "print(a) # [1,4]\n",
    "\n",
    "```"
   ]
  },
  {
   "cell_type": "markdown",
   "id": "1628bc7f",
   "metadata": {},
   "source": [
    "# 11. What are the two methods for removing items from a list?\n",
    "\n",
    "- pop(), remove() are two methods for removing items from a list"
   ]
  },
  {
   "cell_type": "markdown",
   "id": "2c18bec5",
   "metadata": {},
   "source": [
    "# 12. Describe how list values and string values are identical.\n",
    "\n",
    "- list and string are both a sequence of elements (although list can have any type of elements but string elements are all characters that are strings). We can call the elements of list and string by same type of indexing method. "
   ]
  },
  {
   "cell_type": "markdown",
   "id": "79261d34",
   "metadata": {},
   "source": [
    "# 13. What's the difference between tuples and lists?\n",
    "\n",
    "- tuples are immutable and list are mutable"
   ]
  },
  {
   "cell_type": "markdown",
   "id": "77f30bce",
   "metadata": {},
   "source": [
    "# 14. How do you type a tuple value that only contains the integer 42?"
   ]
  },
  {
   "cell_type": "markdown",
   "id": "4f3c8001",
   "metadata": {},
   "source": [
    "```python\n",
    "my_tuple = (42,)\n",
    "```"
   ]
  },
  {
   "cell_type": "markdown",
   "id": "ce3409c3",
   "metadata": {},
   "source": [
    "# 15. How do you get a list value's tuple form? How do you get a tuple value's list form?"
   ]
  },
  {
   "cell_type": "markdown",
   "id": "fc829277",
   "metadata": {},
   "source": [
    "- ### list values tuple form\n",
    "\n",
    "```python\n",
    "my_tuple = ([1,2],[3,4])\n",
    "```\n",
    "- ### tuple values list\n",
    "\n",
    "```python\n",
    "my_list = [(1,2),(3,4)]\n",
    "```"
   ]
  },
  {
   "cell_type": "markdown",
   "id": "3b769ade",
   "metadata": {},
   "source": [
    "# 16. Variables that \"contain\" list values are not necessarily lists themselves. Instead, what do they contain?"
   ]
  },
  {
   "cell_type": "markdown",
   "id": "652f3b0c",
   "metadata": {},
   "source": [
    "- A list can contain string, tuple, list, dictionaries, Boolean values etc."
   ]
  },
  {
   "cell_type": "markdown",
   "id": "e6d530ff",
   "metadata": {},
   "source": [
    "# 17. How do you distinguish between copy.copy() and copy.deepcopy()?"
   ]
  },
  {
   "cell_type": "markdown",
   "id": "2dbc4235",
   "metadata": {},
   "source": [
    "- copy.copy() will create an new object which in reference of old object. If we change something in new object then it will reflect on old object.\n",
    "- copy.deepcopy() will create create a new object. And the old object is completely independent of new object. If we change the new object then it doesn't effect the old"
   ]
  },
  {
   "cell_type": "code",
   "execution_count": null,
   "id": "4712efa8",
   "metadata": {},
   "outputs": [],
   "source": []
  }
 ],
 "metadata": {
  "kernelspec": {
   "display_name": "Python 3",
   "language": "python",
   "name": "python3"
  },
  "language_info": {
   "codemirror_mode": {
    "name": "ipython",
    "version": 3
   },
   "file_extension": ".py",
   "mimetype": "text/x-python",
   "name": "python",
   "nbconvert_exporter": "python",
   "pygments_lexer": "ipython3",
   "version": "3.8.8"
  }
 },
 "nbformat": 4,
 "nbformat_minor": 5
}
