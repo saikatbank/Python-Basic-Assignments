{
 "cells": [
  {
   "cell_type": "markdown",
   "id": "4e5f2cad",
   "metadata": {},
   "source": [
    "## 1. Why are functions advantageous to have in your programs?"
   ]
  },
  {
   "cell_type": "markdown",
   "id": "fecddc9d",
   "metadata": {},
   "source": [
    "- If we want to do same task again and again then function make it easy. <br>\n",
    "- If we are using function then it is easy to red. <br>\n",
    "- It is easy to update a function rather than main code. <br>\n",
    "- It reduce the run time, if we are using functions then code will execute only those functions which are required."
   ]
  },
  {
   "cell_type": "markdown",
   "id": "d84debbf",
   "metadata": {},
   "source": [
    "## 2. When does the code in a function run: when it's specified or when it's called?"
   ]
  },
  {
   "cell_type": "markdown",
   "id": "a347c9c2",
   "metadata": {},
   "source": [
    "- The code in a function run when it is called."
   ]
  },
  {
   "cell_type": "markdown",
   "id": "6e423f11",
   "metadata": {},
   "source": [
    "## 3. What statement creates a function?"
   ]
  },
  {
   "cell_type": "markdown",
   "id": "74119457",
   "metadata": {},
   "source": [
    "- The 'def' statement creates a function. "
   ]
  },
  {
   "cell_type": "markdown",
   "id": "19258fc1",
   "metadata": {},
   "source": [
    "## 4. What is the difference between a function and a function call?"
   ]
  },
  {
   "cell_type": "markdown",
   "id": "db69123b",
   "metadata": {},
   "source": [
    "- Function - A function is consist of 'def' statement, it's name and then task of the function written in the def clause.<br>\n",
    "- Function call - we do a function call in the main code which executes the task of the function written in the def clause of that function."
   ]
  },
  {
   "cell_type": "markdown",
   "id": "4d206c3e",
   "metadata": {},
   "source": [
    "## 5. How many global scopes are there in a Python program? How many local scopes?"
   ]
  },
  {
   "cell_type": "markdown",
   "id": "4a2f6e84",
   "metadata": {},
   "source": [
    "- There is only one global scope.<br>\n",
    "- There may be multiple number of local variable. When we define a function then a local scope will create associated with that function."
   ]
  },
  {
   "cell_type": "markdown",
   "id": "4b1e8a59",
   "metadata": {},
   "source": [
    "## 6. What happens to variables in a local scope when the function call returns?"
   ]
  },
  {
   "cell_type": "markdown",
   "id": "184781d8",
   "metadata": {},
   "source": [
    "- When a function returns then all the local scope will be destroy and and all the variables will be forgotten."
   ]
  },
  {
   "cell_type": "markdown",
   "id": "55dfb514",
   "metadata": {},
   "source": [
    "## 7. What is the concept of a return value? Is it possible to have a return value in an expression?"
   ]
  },
  {
   "cell_type": "markdown",
   "id": "ed6f07d4",
   "metadata": {},
   "source": [
    "- If a task of evaluation is given to function then the evaluated value give the function in the form of return <br>\n",
    "- Yes. It is possible to have a return value in an expression"
   ]
  },
  {
   "cell_type": "markdown",
   "id": "cbf39c3a",
   "metadata": {},
   "source": [
    "## 8. If a function does not have a return statement, what is the return value of a call to that function?"
   ]
  },
  {
   "cell_type": "markdown",
   "id": "4c636900",
   "metadata": {},
   "source": [
    "- If a function does not have a return statement then the return value is None"
   ]
  },
  {
   "cell_type": "markdown",
   "id": "d4cb8a3a",
   "metadata": {},
   "source": [
    "## 9. How do you make a function variable refer to the global variable?"
   ]
  },
  {
   "cell_type": "markdown",
   "id": "a701f66c",
   "metadata": {},
   "source": [
    "- To make a function variable refer to the global variable we have to use global statement"
   ]
  },
  {
   "cell_type": "markdown",
   "id": "9c299c25",
   "metadata": {},
   "source": [
    "## 10. What is the data type of None?"
   ]
  },
  {
   "cell_type": "markdown",
   "id": "6f49033a",
   "metadata": {},
   "source": [
    "- The data type of None is 'NoneType'"
   ]
  },
  {
   "cell_type": "markdown",
   "id": "dcbe72ec",
   "metadata": {},
   "source": [
    "## 11. What does the sentence import areallyourpetsnamederic do?"
   ]
  },
  {
   "cell_type": "markdown",
   "id": "26c64756",
   "metadata": {},
   "source": [
    "- It imports a moudlue named 'areallyourpetsnamederic '"
   ]
  },
  {
   "cell_type": "markdown",
   "id": "c87519ed",
   "metadata": {},
   "source": [
    "## 12. If you had a bacon() feature in a spam module, what would you call it after importing spam?"
   ]
  },
  {
   "cell_type": "markdown",
   "id": "32212b23",
   "metadata": {},
   "source": [
    "- After importing spam we have to use spam.bacon() to call the bacon function from spam module"
   ]
  },
  {
   "cell_type": "markdown",
   "id": "92ef8f18",
   "metadata": {},
   "source": [
    "## 13. What can you do to save a programme from crashing if it encounters an error?"
   ]
  },
  {
   "cell_type": "markdown",
   "id": "d38cd74f",
   "metadata": {},
   "source": [
    "- We write the program into try block and in exception block we write a related message in except block so that if the program encounters an error it will skip try block and go through except block"
   ]
  },
  {
   "cell_type": "markdown",
   "id": "d2787b76",
   "metadata": {},
   "source": [
    "## 14. What is the purpose of the try clause? What is the purpose of the except clause?"
   ]
  },
  {
   "cell_type": "markdown",
   "id": "cff982de",
   "metadata": {},
   "source": [
    "- The try clause check that the written program in it giving error or not <br>\n",
    "- The except block is to handle the error. If program written in the try block is giving error the python will excute except clause"
   ]
  },
  {
   "cell_type": "code",
   "execution_count": null,
   "id": "215193cf",
   "metadata": {},
   "outputs": [],
   "source": []
  }
 ],
 "metadata": {
  "kernelspec": {
   "display_name": "Python 3",
   "language": "python",
   "name": "python3"
  },
  "language_info": {
   "codemirror_mode": {
    "name": "ipython",
    "version": 3
   },
   "file_extension": ".py",
   "mimetype": "text/x-python",
   "name": "python",
   "nbconvert_exporter": "python",
   "pygments_lexer": "ipython3",
   "version": "3.8.8"
  }
 },
 "nbformat": 4,
 "nbformat_minor": 5
}
